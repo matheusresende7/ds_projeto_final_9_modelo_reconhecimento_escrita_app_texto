{
 "cells": [
  {
   "cell_type": "markdown",
   "metadata": {},
   "source": [
    "# Dicionário de dados"
   ]
  },
  {
   "cell_type": "markdown",
   "metadata": {},
   "source": [
    "- **Arquivo:** lean_dataset.csv\n",
    "\n",
    "<br>\n",
    "\n",
    "|Número | Categoria               | Coluna               | Descrição                                                              | Tipo de dado|\n",
    "|-------|-------------------------|----------------------|------------------------------------------------------------------------|-------------|\n",
    "|1      | Dados pessoais          | Education            | Nível de educação do cliente                                           | object      |\n",
    "|2      | Dados pessoais          | Marital_Status       | Se o cliente tem parceiro                                              | object      |\n",
    "|3      | Dados pessoais          | Children             | Número de filhos do cliente                                            | int         |\n",
    "|4      | Dados pessoais          | HasChildren          | 1 se o cliente tem filhos, 0 caso contrário                            | int         |\n",
    "|5      | Dados pessoais          | Age                  | Idade do cliente                                                       | object      |\n",
    "|6      | Dados pessoais          | AgeGroup             | Faixa de idade do cliente                                              | object      |\n",
    "|7      | Dados pessoais          | Income               | Renda anual da família do cliente                                      | float       |\n",
    "|8      | Dados das compras       | Recency              | Número de dias desde a última compra do cliente                        | int         |\n",
    "|9      | Dados das compras       | Complain             | 1 se o cliente reclamou nos últimos 2 anos, 0 caso contrário           | int         |\n",
    "|10     | Dados das compras       | Days_Since_Enrolled  | Dias desde o cadastro do cliente                                       | int         |\n",
    "|11     | Dados das compras       | Years_Since_Enrolled | Anos desde o cadastro do cliente                                       | int         |\n",
    "|12     | Dados das compras       | NumDealsPurchases    | Número de compras feitas com desconto                                  | int         |\n",
    "|13     | Dados das compras       | NumWebVisitsMonth    | Número de visitas ao site da empresa no último mês                     | int         |\n",
    "|14     | Dados das compras       | NumTotalPurchases    | Número do total de compras do cliente                                  | int         |\n",
    "|15     | Dados das compras       | MntRegularProds      | Valor gasto em produtos regulares nos últimos 2 anos                   | int         |\n",
    "|16     | Dados das compras       | MntGoldProds         | Valor gasto em produtos gold nos últimos 2 anos                        | int         |\n",
    "|17     | Dados das compras       | MntTotal             | Valor total gasto em produtos (gold + regulares) nos últimos 2 anos    | int         |\n",
    "|18     | Dados das campanhas     | AcceptedCmpTotal     | Total de campanhas aceitas pelo cliente                                | int         |\n",
    "|19     | Dados das campanhas     | HasAcceptedCmp       | 1 se o cliente aceitou a oferta de alguma campanha, 0 caso contrário   | int         |\n",
    "|**20** | **Dados das campanhas** |**Response (Target)** |**1 se o cliente aceitou a oferta na última campanha, 0 caso contrário**|**int**      |"
   ]
  },
  {
   "cell_type": "markdown",
   "metadata": {},
   "source": [
    "- **Arquivo:** raw_dataset.csv\n",
    "\n",
    "<br>\n",
    "\n",
    "|Número | Categoria               | Coluna               | Descrição                                                              | Tipo de dado|\n",
    "|-------|-------------------------|----------------------|------------------------------------------------------------------------|-------------|\n",
    "|1      | Dados pessoais          | ID                   | ID de identificação do cliente                                         | int         |\n",
    "|2      | Dados pessoais          | Year_Birth           | Ano de nascimento do cliente                                           | int         |\n",
    "|3      | Dados pessoais          | Education            | Nível de educação do cliente                                           | object      |\n",
    "|4      | Dados pessoais          | Marital_Status       | Estado civil do cliente                                                | object      |\n",
    "|5      | Dados pessoais          | Income               | Renda anual da família do cliente                                      | float       |\n",
    "|6      | Dados pessoais          | Kidhome              | Número de crianças na casa do cliente                                  | int         |\n",
    "|7      | Dados pessoais          | Teenhome             | Número de adolescentes na casa do cliente                              | int         |\n",
    "|8      | Dados das compras       | Dt_Customer          | Data do cadastro do cliente na empresa                                 | object      |\n",
    "|9      | Dados das compras       | Recency              | Número de dias desde a última compra do cliente                        | int         |\n",
    "|10     | Dados das compras       | MntWines             | Valor gasto em vinhos nos últimos 2 anos                               | int         |\n",
    "|11     | Dados das compras       | MntFruits            | Valor gasto em frutas nos últimos 2 anos                               | int         |\n",
    "|12     | Dados das compras       | MntMeatProducts      | Valor gasto em carnes nos últimos 2 anos                               | int         |\n",
    "|13     | Dados das compras       | MntFishProducts      | Valor gasto em peixes nos últimos 2 anos                               | int         |\n",
    "|14     | Dados das compras       | MntSweetProducts     | Valor gasto em doces nos últimos 2 anos                                | int         |\n",
    "|15     | Dados das compras       | MntGoldProds         | Valor gasto em produtos gold nos últimos 2 anos                        | int         |\n",
    "|16     | Dados das compras       | NumDealsPurchases    | Número de compras feitas com desconto                                  | int         |\n",
    "|17     | Dados das compras       | NumWebPurchases      | Número de compras feitas através do site da empresa                    | int         |\n",
    "|18     | Dados das compras       | NumCatalogPurchases  | Número de compras feitas usando o catálogo                             | int         |\n",
    "|19     | Dados das compras       | NumStorePurchases    | Número de compras feitas diretamente nas lojas                         | int         |\n",
    "|20     | Dados das compras       | NumWebVisitsMonth    | Número de visitas ao site da empresa no último mês                     | int         |\n",
    "|21     | Dados das compras       | Complain             | 1 se o cliente reclamou nos últimos 2 anos, 0 caso contrário           | int         |\n",
    "|22     | Dados das campanhas     | AcceptedCmp1         | 1 se o cliente aceitou a oferta na 1ª campanha, 0 caso contrário       | int         |\n",
    "|23     | Dados das campanhas     | AcceptedCmp2         | 1 se o cliente aceitou a oferta na 2ª campanha, 0 caso contrário       | int         |\n",
    "|24     | Dados das campanhas     | AcceptedCmp3         | 1 se o cliente aceitou a oferta na 3ª campanha, 0 caso contrário       | int         |\n",
    "|25     | Dados das campanhas     | AcceptedCmp4         | 1 se o cliente aceitou a oferta na 4ª campanha, 0 caso contrário       | int         |\n",
    "|26     | Dados das campanhas     | AcceptedCmp5         | 1 se o cliente aceitou a oferta na 5ª campanha, 0 caso contrário       | int         |\n",
    "|**27** | **Dados das campanhas** |**Response (Target)** |**1 se o cliente aceitou a oferta na última campanha, 0 caso contrário**|**int**      |\n",
    "|28     | Dados sem informações   | Z_CostContact        | Sem detalhes                                                           | int         |\n",
    "|29     | Dados sem informações   | Z_Revenue            | Sem detalhes                                                           | int         |"
   ]
  }
 ],
 "metadata": {
  "language_info": {
   "name": "python"
  }
 },
 "nbformat": 4,
 "nbformat_minor": 2
}
