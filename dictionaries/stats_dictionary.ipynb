{
 "cells": [
  {
   "cell_type": "markdown",
   "metadata": {},
   "source": [
    "# Dicionário de estatísticas"
   ]
  },
  {
   "cell_type": "markdown",
   "metadata": {},
   "source": [
    "| Medida        | Conceito        | Definição                                                                                                                                     |\n",
    "|-------------------|---------------------|---------------------------------------------------------------------------------------------------------------------------------------------------|\n",
    "| Básica        | Contagem             | Conjunto que contém todos os indivíduos, objetos ou elementos a serem estudados, que apresentam uma ou mais características em comum. Também conhecido como população ou universo |\n",
    "| Básica        | Variável             | Característica ou atributo que se deseja observar, medir ou contar, a fim de se obter algum tipo de conclusão                                      |\n",
    "| Básica        | Dados                | Registros coletados sobre as variáveis de interesse                                                                                               |\n",
    "| Tendência Central | Média             | É a medida determinada pelo resultado da divisão do somatório dos números dados pela quantidade de números somados. E também há a média ponderada em que há pesos |\n",
    "| Tendência Central | Mediana           | É a medida que indica o valor central de um conjunto de dados organizados em ordem crescente ou decrescente, se houver qtd. ímpar de dados. Se a qtd. for par, é feita a média dos dois valores centrais |\n",
    "| Tendência Central | Moda              | É a medida que consiste no valor observado com mais frequência em um conjunto de dados                                                            |\n",
    "| Dispersão     | Amplitude            | É a medida que representa a diferença entre o maior e o menor valor em um conjunto de dados. A amplitude é uma medida de dispersão que é sensível a valores extremos, pois é calculada a partir de apenas dois valores |\n",
    "| Dispersão     | Desvio Médio         | Desvio é a diferença entre cada valor observado e a média da variável. O desvio médio, ou desvio médio absoluto, é a média dos desvios, ou seja, a média aritmética dos valores absolutos dos desvios |\n",
    "| Dispersão     | Desvio Padrão        | É a medida que expressa o grau de dispersão de um conjunto de dados. Quanto mais próximo de 0 for o desvio padrão, mais homogêneo são os dados. O desvio padrão é definido como a raiz quadrada da variância |\n",
    "| Separatrizes  | Mínimo               | O Mínimo indica o menor valor do conjunto de dados                                                                                                 |\n",
    "| Separatrizes  | Q1                   | O 1º Quartil indica que 25% dos dados são inferiores a Q1 ou que 75% dos dados são superiores a Q1                                                 |\n",
    "| Separatrizes  | Q2 = Mediana         | O 2º Quartil corresponde à mediana, indicando que 50% dos dados são inferiores ou superiores a Q2                                                  |\n",
    "| Separatrizes  | Q3                   | O 3º Quartil indica que 75% dos dados são inferiores a Q3 ou que 25% dos dados são superiores a Q3                                                 |\n",
    "| Separatrizes  | Máximo               | O Máximo indica o maior valor do conjunto de dados                                                                                                 |\n",
    "| Boxplot       | AIQ = IQR            | Intervalo interquartil, medido entre o 1º e o 3º quartil, refletindo a dispersão central dos dados, definido por Q3-Q1                             |\n",
    "| Boxplot       | Limite Inferior      | Valor mínimo esperado de um conjunto, definido por Q1 – 1,5 x AIQ                                                                                 |\n",
    "| Boxplot       | Limite Superior      | Valor máximo esperado de um conjunto, definido por Q3 + 1,5 x AIQ                                                                                 |\n",
    "| Boxplot       | Outliers             | Dados que estão fora dos limites inferior ou superior, considerados anômalos                                                                       |"
   ]
  }
 ],
 "metadata": {
  "language_info": {
   "name": "python"
  }
 },
 "nbformat": 4,
 "nbformat_minor": 2
}
