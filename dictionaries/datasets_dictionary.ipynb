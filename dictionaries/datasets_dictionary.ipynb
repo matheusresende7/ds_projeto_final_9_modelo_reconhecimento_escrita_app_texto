{
 "cells": [
  {
   "cell_type": "markdown",
   "metadata": {},
   "source": [
    "# Dicionário de datasets"
   ]
  },
  {
   "cell_type": "markdown",
   "metadata": {},
   "source": [
    "| Dataset                 | Descrição                                                                    |\n",
    "|-------------------------|-------------------------------------------------------------------------------|\n",
    "| clustered               | Dataset após aplicar o modelo de clusterização                                |\n",
    "| deploy_classification   | Dataset para testar o deploy do modelo de classificação                       |\n",
    "| deployed_classification | Dataset com o resultado do deploy do modelo de classificação                  |\n",
    "| dummies                 | Dataset criado para fazer o gráfico de correlações                            |\n",
    "| lean                    | Dataset tratado, deixando somente as colunas importantes, sem informações redundantes |\n",
    "| preview                 | Dataset inicial do projeto apenas com as 1000 primeiras linhas para análise rápida |\n",
    "| processed               | Dataset tratado, removendo somente as colunas realmente que não agregam valor |\n",
    "| raw                     | Dataset inicial do projeto                                                   |\n",
    "| transformed             | Dataset após receber os pré processamentos                                   |"
   ]
  }
 ],
 "metadata": {
  "language_info": {
   "name": "python"
  }
 },
 "nbformat": 4,
 "nbformat_minor": 2
}
