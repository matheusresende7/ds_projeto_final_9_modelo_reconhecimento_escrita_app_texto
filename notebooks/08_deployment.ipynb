{
 "cells": [
  {
   "cell_type": "markdown",
   "metadata": {},
   "source": [
    "# 08. Deployment"
   ]
  },
  {
   "cell_type": "markdown",
   "metadata": {},
   "source": [
    "### Importando as bibliotecas"
   ]
  },
  {
   "cell_type": "code",
   "execution_count": 1,
   "metadata": {},
   "outputs": [],
   "source": [
    "import sys\n",
    "sys.path.append('..')\n",
    "import pandas as pd\n",
    "import params.consts as consts\n",
    "import joblib"
   ]
  },
  {
   "cell_type": "markdown",
   "metadata": {},
   "source": [
    "### Carregando o modelo"
   ]
  },
  {
   "cell_type": "code",
   "execution_count": 2,
   "metadata": {},
   "outputs": [],
   "source": [
    "model_classification = joblib.load(consts.MODEL_CLASSIFICATION_JOBLIB) # Carregando o modelo "
   ]
  },
  {
   "cell_type": "markdown",
   "metadata": {},
   "source": [
    "### Verificando as etapas do modelo"
   ]
  },
  {
   "cell_type": "code",
   "execution_count": 3,
   "metadata": {},
   "outputs": [
    {
     "data": {
      "text/plain": [
       "{'pre_processing': ColumnTransformer(transformers=[('one_hot', OneHotEncoder(),\n",
       "                                  ['Education', 'Marital_Status', 'AgeGroup',\n",
       "                                   'Children', 'HasChildren', 'Complain',\n",
       "                                   'Years_Since_Enrolled', 'AcceptedCmpTotal',\n",
       "                                   'HasAcceptedCmp', 'Cluster']),\n",
       "                                 ('standard', StandardScaler(),\n",
       "                                  ['Income', 'Age']),\n",
       "                                 ('min_max', MinMaxScaler(),\n",
       "                                  ['Recency', 'Days_Since_Enrolled']),\n",
       "                                 ('power', PowerTransformer(),\n",
       "                                  ['NumDealsPurchases', 'NumWebVisitsMonth',\n",
       "                                   'NumTotalPurchases', 'MntRegularProds',\n",
       "                                   'MntGoldProds', 'MntTotal'])]),\n",
       " 'feature_selection': SelectKBest(k=25),\n",
       " 'resampling': RandomUnderSampler(random_state=42),\n",
       " 'models': LogisticRegression(C=1000.0, random_state=42, solver='saga')}"
      ]
     },
     "execution_count": 3,
     "metadata": {},
     "output_type": "execute_result"
    }
   ],
   "source": [
    "model_classification.named_steps # Verificando as etapas do modelo"
   ]
  },
  {
   "cell_type": "markdown",
   "metadata": {},
   "source": [
    "### Realizando o deploy do modelo em formato ipynb"
   ]
  },
  {
   "cell_type": "markdown",
   "metadata": {},
   "source": [
    "##### Instruções de uso:\n",
    "\n",
    "1. Crie um arquivo conforme o modelo, renome-o para **\"dataset_deploy.csv\"** e coloque-o na pasta **\"data\"** desse projeto\n",
    "2. Na pasta **\"deploys\"**, abra o arquivo **\"classification_notebook.ipynb\"** e execute-o\n",
    "3. Pronto, as previsões foram feitas. Para acessá-las é só abrir o novo arquivo criado na pasta **\"data\"** chamado **\"dataset_deployed.csv\"**"
   ]
  },
  {
   "cell_type": "markdown",
   "metadata": {},
   "source": [
    "### Realizando o deploy do modelo em formato py"
   ]
  },
  {
   "cell_type": "markdown",
   "metadata": {},
   "source": [
    "##### Instruções de uso:\n",
    "\n",
    "1. Crie um arquivo conforme o modelo, renome-o para **\"dataset_deploy.csv\"** e coloque-o na pasta **\"data\"** desse projeto\n",
    "2. No **terminal**, digite **cd + \"caminho da pasta\"** (o caminho deve estar entre aspas) e dê enter para entrar na pasta pelo terminal. Para copiar o caminho da pasta basta navegar até o arquivo no explorador de arquivos, clicar no caminho exibido na barra de navegação e copiar \n",
    "3. Agora digite **python classification_python.py** e dê enter\n",
    "4. Pronto, as previsões foram feitas. Para acessá-las é só abrir o novo arquivo criado na pasta **\"data\"** chamado **\"dataset_deployed.csv\"**"
   ]
  },
  {
   "cell_type": "markdown",
   "metadata": {},
   "source": [
    "### Realizando o deploy do modelo em um arquivo executável"
   ]
  },
  {
   "cell_type": "markdown",
   "metadata": {},
   "source": [
    "Nesse projeto, não será utilizado o deploy do modelo em um arquivo executável devido a ter a necessidade de se criar um ambiente virtual para que esse arquivo executável possa ser executado em qualquer local. A principal justificativa para isso é que em um ambiente virtual é preciso instalar todas as bibliotecas usadas durante o projeto, o que tornaria o arquivo muito grande e portanto, inviável para subir no Github."
   ]
  },
  {
   "cell_type": "markdown",
   "metadata": {},
   "source": [
    "### Realizando o deploy do modelo em Streamlit (.py)"
   ]
  },
  {
   "cell_type": "markdown",
   "metadata": {},
   "source": [
    "##### Instruções de uso:\n",
    "\n",
    "1. No **terminal**, digite **cd + \"caminho da pasta\"** (o caminho deve estar entre aspas) e dê enter para entrar na pasta pelo terminal. Para copiar o caminho da pasta basta navegar até o arquivo no explorador de arquivos, clicar no caminho exibido na barra de navegação e copiar \n",
    "2. Agora digite **streamlit run classification_streamlit.py** e dê enter\n",
    "3. Pronto, as previsões foram feitas. A resposta do modelo é exibida na própria tela ao preencher todos os campos"
   ]
  }
 ],
 "metadata": {
  "kernelspec": {
   "display_name": "Python 3",
   "language": "python",
   "name": "python3"
  },
  "language_info": {
   "codemirror_mode": {
    "name": "ipython",
    "version": 3
   },
   "file_extension": ".py",
   "mimetype": "text/x-python",
   "name": "python",
   "nbconvert_exporter": "python",
   "pygments_lexer": "ipython3",
   "version": "3.12.4"
  }
 },
 "nbformat": 4,
 "nbformat_minor": 2
}
