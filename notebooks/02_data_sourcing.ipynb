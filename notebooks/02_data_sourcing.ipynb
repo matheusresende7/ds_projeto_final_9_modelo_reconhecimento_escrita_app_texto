{
 "cells": [
  {
   "cell_type": "markdown",
   "metadata": {},
   "source": [
    "# 02. Data Sourcing"
   ]
  },
  {
   "cell_type": "markdown",
   "metadata": {},
   "source": [
    "### Bancos de Dados\n",
    "Nesse projeto, não houve obtenção de dados através de Bancos de Dados."
   ]
  },
  {
   "cell_type": "markdown",
   "metadata": {},
   "source": [
    "### APIs\n",
    "Nesse projeto, não houve obtenção de dados através de APIs."
   ]
  },
  {
   "cell_type": "markdown",
   "metadata": {},
   "source": [
    "### Web Scraping\n",
    "Nesse projeto, não houve obtenção de dados através de Web Scraping."
   ]
  },
  {
   "cell_type": "markdown",
   "metadata": {},
   "source": [
    "### Outras Fontes\n",
    "Nesse projeto, o arquivo com os dados a serem utilizados é uma base em formato .csv. \n",
    "\n",
    "Esse arquivo foi fornecido pela equipe de Marketing e está na pasta: \"data/\"."
   ]
  }
 ],
 "metadata": {
  "kernelspec": {
   "display_name": "Python 3",
   "language": "python",
   "name": "python3"
  },
  "language_info": {
   "codemirror_mode": {
    "name": "ipython",
    "version": 3
   },
   "file_extension": ".py",
   "mimetype": "text/x-python",
   "name": "python",
   "nbconvert_exporter": "python",
   "pygments_lexer": "ipython3",
   "version": "3.12.4"
  }
 },
 "nbformat": 4,
 "nbformat_minor": 2
}
